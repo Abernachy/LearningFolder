{
  "nbformat": 4,
  "nbformat_minor": 0,
  "metadata": {
    "kernelspec": {
      "display_name": "Python 3",
      "language": "python",
      "name": "python3"
    },
    "language_info": {
      "codemirror_mode": {
        "name": "ipython",
        "version": 3
      },
      "file_extension": ".py",
      "mimetype": "text/x-python",
      "name": "python",
      "nbconvert_exporter": "python",
      "pygments_lexer": "ipython3",
      "version": "3.8.3"
    },
    "colab": {
      "name": "Automate8.ipynb",
      "provenance": []
    }
  },
  "cells": [
    {
      "cell_type": "markdown",
      "metadata": {
        "id": "J7O91V6cjOEl"
      },
      "source": [
        "# Reading and Writing files\n",
        "\n",
        "A file has 2 key properties:\n",
        "- [] Filename\n",
        "- [ ] A Path\n",
        "\n",
        "The file path all depends on which file system you are on:\n",
        "\n",
        "Linux - /\n",
        "Windows - \\\n",
        "\n",
        "If you want scripts to work across all platforms you will need to make use of the os.path.join() funtion.\n",
        "\n",
        "os.path.join() will take in string values and join them together to make a complete path\n",
        "\n",
        "Pathlib replaces the os module.   As of python 3.4 pathlib became the standard, \n"
      ]
    },
    {
      "cell_type": "markdown",
      "metadata": {
        "id": "EXg5VTs6jOE4"
      },
      "source": [
        "## Version 2 of the book - using / operator to join paths\n",
        "\n",
        "Just like how we can use + to combine two strings, we can use the '/' operator to join Path objects and strings"
      ]
    },
    {
      "cell_type": "code",
      "metadata": {
        "id": "1btkESzYjOE9",
        "outputId": "9ae1ec77-fda5-49d5-f9cf-389cce0f7569"
      },
      "source": [
        "from pathlib import Path\n",
        "Path('spam')/'bacon'/'eggs'\n",
        "\n",
        "homeFolder = Path('C:/Users/Mikem')\n",
        "subFolder = Path('spam')\n",
        "homeFolder / subFolder  # this outputs WindowsPath('C:/Users/Mikem/spam')\n",
        "\n",
        "# When using / operaor to join a path, one of the 2 values must be a Path object\n",
        "# Otherwise you get an error"
      ],
      "execution_count": null,
      "outputs": [
        {
          "output_type": "execute_result",
          "data": {
            "text/plain": [
              "WindowsPath('C:/Users/Mikem/spam')"
            ]
          },
          "metadata": {
            "tags": []
          },
          "execution_count": 5
        }
      ]
    },
    {
      "cell_type": "code",
      "metadata": {
        "id": "OsVoEYhsjOFR",
        "outputId": "73b70125-dfff-47e2-e2c9-91b46d71c452"
      },
      "source": [
        "import os\n",
        "import pathlib as Path \n",
        "\n",
        "os.path.join('usr','bin','spam')\n",
        "# This will return \\ or / based on if you are in linux or windows"
      ],
      "execution_count": null,
      "outputs": [
        {
          "output_type": "execute_result",
          "data": {
            "text/plain": [
              "'usr\\\\bin\\\\spam'"
            ]
          },
          "metadata": {
            "tags": []
          },
          "execution_count": 1
        }
      ]
    },
    {
      "cell_type": "code",
      "metadata": {
        "id": "OWj-m0bjjOFe"
      },
      "source": [
        "from pathlib import Path"
      ],
      "execution_count": null,
      "outputs": []
    },
    {
      "cell_type": "code",
      "metadata": {
        "id": "0GX5N5-MjOFo",
        "outputId": "52e64194-6c85-4dac-9e2a-749fe3514474"
      },
      "source": [
        "# This function is useful if you need to create strings for filenames\n",
        "\n",
        "myFiles = ['accounts.txt','details.csv', 'invite.docx']\n",
        "for filename in myFiles:\n",
        "    print(os.path.join('C://Users/mikem/', filename))"
      ],
      "execution_count": null,
      "outputs": [
        {
          "output_type": "stream",
          "text": [
            "C://Users/mikem/accounts.txt\n",
            "C://Users/mikem/details.csv\n",
            "C://Users/mikem/invite.docx\n"
          ],
          "name": "stdout"
        }
      ]
    },
    {
      "cell_type": "markdown",
      "metadata": {
        "id": "YDZZgd6WjOF2"
      },
      "source": [
        "## Current Working Directory\n",
        "\n",
        "use os.getcwd() to get the current working directory, and you can change it with os.chdir().\n",
        "\n",
        "If you attempt to change to a directory that doesn't exist, you will get a **FileNotFoundError**\n",
        "\n",
        "When specifying a file path you can use one of two ways:\n",
        "1. Absolute path - always begins at Root\n",
        "2. Relative Path - path relative to the current CWD\n",
        "\n",
        "Additionally, you can use . and .. in a path.\n",
        "A . represents this directory\n",
        "A .. represents the parent folder\n"
      ]
    },
    {
      "cell_type": "code",
      "metadata": {
        "id": "B0P61eBfjOF4",
        "outputId": "316349f2-e08e-45a8-b862-49d0b5721e86"
      },
      "source": [
        "current = Path.cwd()\n",
        "print(current)\n",
        "\n",
        "# os.chdir('C:\\\\Users\\MikeM\\Documents')\n",
        "os.chdir('..')\n",
        "print(os.getcwd())\n",
        "\n",
        "# If you try to change to a directory that doesn't exist, you will get an error.\n"
      ],
      "execution_count": null,
      "outputs": [
        {
          "output_type": "stream",
          "text": [
            "C:\\Users\\mikem\\Documents\\Programming\\Python\\AutomateTheBoringStuff\n",
            "C:\\Users\\mikem\\Documents\\Programming\\Python\n"
          ],
          "name": "stdout"
        }
      ]
    },
    {
      "cell_type": "markdown",
      "metadata": {
        "id": "duVifLzGjOGD"
      },
      "source": [
        "## Home directory\n",
        "All users have a home directory, use the Path.home()"
      ]
    },
    {
      "cell_type": "code",
      "metadata": {
        "id": "4NoxUnY4jOGF",
        "outputId": "51d3e043-e593-47a3-b069-750361508465"
      },
      "source": [
        "Path.home()\n",
        "\n",
        "# Path.home() is your best shot for getting a standard location"
      ],
      "execution_count": null,
      "outputs": [
        {
          "output_type": "execute_result",
          "data": {
            "text/plain": [
              "WindowsPath('C:/Users/mikem')"
            ]
          },
          "metadata": {
            "tags": []
          },
          "execution_count": 8
        }
      ]
    },
    {
      "cell_type": "markdown",
      "metadata": {
        "id": "zF8ljodzjOGO"
      },
      "source": [
        "## Creating New folders\n",
        "\n",
        "You can make a new folder using **os.makedirs()**.  This creates not only the specified directory, but also the parent directory if it doesn't exist."
      ]
    },
    {
      "cell_type": "code",
      "metadata": {
        "id": "h-b_GCAVjOGR",
        "outputId": "70c5d96f-811f-479a-8063-5ee06d9a4719"
      },
      "source": [
        "os.makedirs('C:\\\\Users\\Mikem\\Snaketitties\\Iloveboobies')\n",
        "print(os.getcwd())"
      ],
      "execution_count": null,
      "outputs": [
        {
          "output_type": "stream",
          "text": [
            "C:\\Users\n"
          ],
          "name": "stdout"
        }
      ]
    },
    {
      "cell_type": "markdown",
      "metadata": {
        "id": "92t1YuuTjOGl"
      },
      "source": [
        "## Absoluate Path vs. Relative Paths\n",
        "\n",
        "calling is_absolute() on a path object will return True if it represents an absolute path or not.\n",
        "\n",
        "os.path.abspath(path) will return a string of the absolute path of the argument\n",
        "\n",
        "os.path.isabs(path) will return True if the argumet is an absolute path\n",
        "\n",
        "os.path.relpath(path, start) will return a string of a relaive path from the start path to path.  If start is not provided the cwd() is used as the start"
      ]
    },
    {
      "cell_type": "code",
      "metadata": {
        "id": "dDI9EpE2jOGo",
        "outputId": "f72075ee-fb0d-4340-a030-eeab3a897788"
      },
      "source": [
        "print(Path('my/relative/path'))\n",
        "\n",
        "print(Path.cwd()/Path('my/relative/path'))"
      ],
      "execution_count": null,
      "outputs": [
        {
          "output_type": "stream",
          "text": [
            "my\\relative\\path\n",
            "C:\\Users\\mikem\\Documents\\Programming\\Python\\my\\relative\\path\n"
          ],
          "name": "stdout"
        }
      ]
    },
    {
      "cell_type": "code",
      "metadata": {
        "id": "yVzeCovBjOGx",
        "outputId": "dd29ddc1-5e08-419d-a65e-4eb3dd8b990d"
      },
      "source": [
        "print(os.path.abspath('.')) # returns the current working directory\n",
        "\n",
        "print(os.path.relpath('C:\\\\Windows','C:\\\\'))\n",
        "\n",
        "os.path.relpath('C:\\\\Windows', 'C:\\\\spam\\\\eggs')"
      ],
      "execution_count": null,
      "outputs": [
        {
          "output_type": "stream",
          "text": [
            "C:\\Users\\mikem\\Documents\\Programming\\Python\n",
            "Windows\n"
          ],
          "name": "stdout"
        },
        {
          "output_type": "execute_result",
          "data": {
            "text/plain": [
              "'..\\\\..\\\\Windows'"
            ]
          },
          "metadata": {
            "tags": []
          },
          "execution_count": 17
        }
      ]
    },
    {
      "cell_type": "markdown",
      "metadata": {
        "id": "eXJPe5eTjOG8"
      },
      "source": [
        "## Getting the parts of a file path\n",
        "\n",
        "Given a Path object, you can extract the file path's different parts as strings using several attributes.\n",
        "\n",
        "1. anchor - the root folder of the filesystem\n",
        "2. (windows) drive - the letter that denotes the storage device\n",
        "3. parent - folder that contains the file\n",
        "4. name - made up of the stem (base name) and the suffix (file extension)"
      ]
    },
    {
      "cell_type": "code",
      "metadata": {
        "id": "Waut_DPKjOG_",
        "outputId": "8f2feaf7-c753-43dd-d2ca-80748fca7bcf"
      },
      "source": [
        "p= Path('C:/Users/Mikem/stiff/spam.txt')\n",
        "\n",
        "print(p.anchor)\n",
        "print(p.name)\n",
        "print(p.stem)\n",
        "print(p.suffix)\n",
        "print(p.drive)\n",
        "\n",
        "# If you want to somewhat deeper you can use .parents[x]\n",
        "\n",
        "print(Path.cwd().parents[0])\n",
        "\n",
        "print(Path.cwd().parents[3])\n",
        "\n",
        "# os.path.basename(x) will get the basename and the suffix\n",
        "# os.path.dirname(x) will get the directory name\n",
        "# os.path.split() will return a tuple value of both of these \n"
      ],
      "execution_count": null,
      "outputs": [
        {
          "output_type": "stream",
          "text": [
            "C:\\\n",
            "spam.txt\n",
            "spam\n",
            ".txt\n",
            "C:\n",
            "C:\\Users\\mikem\\Documents\\Programming\n",
            "C:\\Users\n"
          ],
          "name": "stdout"
        }
      ]
    },
    {
      "cell_type": "markdown",
      "metadata": {
        "id": "6PVihGcajOHO"
      },
      "source": [
        "## Finding File sizes and Folder Contents\n",
        "\n",
        "The os.path module provides functions for finding the size of a file in bytes and the files and fodlers inside a given folder\n",
        "\n",
        "os.pathgetsize(path) will return the size in bytes of the file in the path argument\n",
        "\n",
        "os.listdir(path) will return a list of filename strings for each file in the path argument.  (This function is part of the os module)"
      ]
    },
    {
      "cell_type": "code",
      "metadata": {
        "id": "ZpdBwKBhjOHQ",
        "outputId": "27a8f055-0933-4d2d-cd6f-9dbe394e674b"
      },
      "source": [
        "\n",
        "\n",
        "totalSize = 0\n",
        "for filename in os.listdir('C:\\\\Windows\\\\System32'):\n",
        "    totalSize = totalSize + os.path.getsize(os.path.join('C:\\\\Windows\\\\System32', filename))\n",
        "print(totalSize)\n"
      ],
      "execution_count": null,
      "outputs": [
        {
          "output_type": "stream",
          "text": [
            "2007480012\n"
          ],
          "name": "stdout"
        }
      ]
    },
    {
      "cell_type": "markdown",
      "metadata": {
        "id": "G6c5hBHEjOHn"
      },
      "source": [
        "## Globbing\n",
        "If you want to work on specific files, the glob() method works easier than listdir()\n",
        "\n",
        "Path objects have a glob() method for listing the contents of a folder according to a glob pattern.  Glob Patterns are simplified REGEXES.  The glob() will return a generator object that you'll need to pass to list().\n",
        "\n",
        "1. * = returns everything, or can be used like a wildcard ('*.txt')\n",
        "2. ? = return everything matched with one character ('project?.docx will return project1.docx - project9.docx)\n",
        "\n",
        "Another ex: '*.?x?' will return files with any name and any three-character extension where the middle character is an 'x'"
      ]
    },
    {
      "cell_type": "code",
      "metadata": {
        "id": "59YDSNbbjOHp",
        "outputId": "4619921a-c7fa-4175-ad17-5d30f4f08cb3"
      },
      "source": [
        "p = Path('C:/Users/mikem/Documents/3ds')\n",
        "p.glob('*')\n",
        "billy = list(p.glob('*')) # Makes a list from the generator\n",
        "print(billy)\n",
        "\n",
        "# You can create complex regexes\n",
        "jilly = list(p.glob('*.cia'))\n",
        "print(jilly)"
      ],
      "execution_count": null,
      "outputs": [
        {
          "output_type": "stream",
          "text": [
            "[WindowsPath('C:/Users/mikem/Documents/3ds/000400000005C300 スライムもりもりドラゴンクエスト３ (CTR-P-AMRJ) (J).cia'), WindowsPath('C:/Users/mikem/Documents/3ds/0004000000132700 Mario & Luigi Paper… (CTR-P-AYNE) (U).cia'), WindowsPath('C:/Users/mikem/Documents/3ds/000400000016DB00 The Legend of Legacy (CTR-P-BLLE) (U).cia'), WindowsPath('C:/Users/mikem/Documents/3ds/0004000000174600 Pokémon SMD (CTR-P-BPXE) (U).cia'), WindowsPath('C:/Users/mikem/Documents/3ds/000400000018F800 7TH DRAGON III CODE VFD (CTR-P-BD7E) (U).cia'), WindowsPath('C:/Users/mikem/Documents/3ds/00040000001B4000 FE Echoes Shadows of Valentia (CTR-P-AJJE) (U).cia'), WindowsPath('C:/Users/mikem/Documents/3ds/00040000001B8F00 Mario & Luigi Superstar… (CTR-P-BRME) (UT).cia'), WindowsPath('C:/Users/mikem/Documents/3ds/Star_Sapphire_679.7z'), WindowsPath('C:/Users/mikem/Documents/3ds/Universal-Updater.cia')]\n",
            "[WindowsPath('C:/Users/mikem/Documents/3ds/000400000005C300 スライムもりもりドラゴンクエスト３ (CTR-P-AMRJ) (J).cia'), WindowsPath('C:/Users/mikem/Documents/3ds/0004000000132700 Mario & Luigi Paper… (CTR-P-AYNE) (U).cia'), WindowsPath('C:/Users/mikem/Documents/3ds/000400000016DB00 The Legend of Legacy (CTR-P-BLLE) (U).cia'), WindowsPath('C:/Users/mikem/Documents/3ds/0004000000174600 Pokémon SMD (CTR-P-BPXE) (U).cia'), WindowsPath('C:/Users/mikem/Documents/3ds/000400000018F800 7TH DRAGON III CODE VFD (CTR-P-BD7E) (U).cia'), WindowsPath('C:/Users/mikem/Documents/3ds/00040000001B4000 FE Echoes Shadows of Valentia (CTR-P-AJJE) (U).cia'), WindowsPath('C:/Users/mikem/Documents/3ds/00040000001B8F00 Mario & Luigi Superstar… (CTR-P-BRME) (UT).cia'), WindowsPath('C:/Users/mikem/Documents/3ds/Universal-Updater.cia')]\n"
          ],
          "name": "stdout"
        }
      ]
    },
    {
      "cell_type": "markdown",
      "metadata": {
        "id": "3xMBOJQykbl7"
      },
      "source": [
        "## Acid on the face"
      ]
    },
    {
      "cell_type": "code",
      "metadata": {
        "id": "R4PgLM1KkfwK"
      },
      "source": [
        ""
      ],
      "execution_count": null,
      "outputs": []
    }
  ]
}