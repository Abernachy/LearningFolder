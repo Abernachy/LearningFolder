{
  "cells": [
    {
      "cell_type": "markdown",
      "metadata": {
        "id": "aMvaT4vjTKCF"
      },
      "source": [
        "# Debugging\n",
        "\n",
        "This chapter deals with debugging code and messing around with the try..Except shit.\n",
        "\n"
      ]
    },
    {
      "cell_type": "markdown",
      "metadata": {
        "id": "hiKZ0C3eTKCJ"
      },
      "source": [
        "## Raising Exceptions\n",
        "Python raises an exception whenever it tries to execute invalid code.  We have the ability to raise our own exception when it comes to coding."
      ]
    },
    {
      "cell_type": "code",
      "execution_count": null,
      "metadata": {
        "id": "I5ax7thYTKCM",
        "outputId": "b8f26030-f329-4fde-a46f-71d0c55974c1"
      },
      "outputs": [
        {
          "ename": "Exception",
          "evalue": "This is an error message",
          "output_type": "error",
          "traceback": [
            "\u001b[1;31m---------------------------------------------------------------------------\u001b[0m",
            "\u001b[1;31mException\u001b[0m                                 Traceback (most recent call last)",
            "\u001b[1;32m<ipython-input-2-aa3c3cd016f8>\u001b[0m in \u001b[0;36m<module>\u001b[1;34m\u001b[0m\n\u001b[1;32m----> 1\u001b[1;33m \u001b[1;32mraise\u001b[0m \u001b[0mException\u001b[0m\u001b[1;33m(\u001b[0m\u001b[1;34m'This is an error message'\u001b[0m\u001b[1;33m)\u001b[0m\u001b[1;33m\u001b[0m\u001b[1;33m\u001b[0m\u001b[0m\n\u001b[0m",
            "\u001b[1;31mException\u001b[0m: This is an error message"
          ]
        }
      ],
      "source": [
        "raise Exception('This is an error message')"
      ]
    },
    {
      "cell_type": "markdown",
      "metadata": {
        "id": "cmUwmvNPTKCP"
      },
      "source": [
        "If there are no try and except statements covering the raise statement, the program will crsah and display the error message.\n",
        "\n",
        "Typically you'll see a raise statement inside a function and the try/except statements in the code calling the functions."
      ]
    },
    {
      "cell_type": "code",
      "execution_count": null,
      "metadata": {
        "id": "b5BGgJGDTKCQ",
        "outputId": "433f62f2-310d-4f9f-e2b3-1e3e69075d84"
      },
      "outputs": [
        {
          "name": "stdout",
          "output_type": "stream",
          "text": [
            "****\n",
            "**\n",
            "**\n",
            "****\n",
            "OOOOOOOOOOOOOOOOOOOO\n",
            "OO\n",
            "OO\n",
            "OO\n",
            "OOOOOOOOOOOOOOOOOOOO\n",
            "An exception happened: Width must be greater than 2.\n",
            "An exception happened: Symbol must be a single character string.\n"
          ]
        }
      ],
      "source": [
        "def boxPrint(symbol, width, height):\n",
        "    if len(symbol)!=1:\n",
        "        raise Exception('Symbol must be a single character string.')\n",
        "    if width <=2:\n",
        "        raise Exception('Width must be greater than 2.')\n",
        "    if height <=2:\n",
        "        raise Exception('Height must be greater than 2.')\n",
        "        \n",
        "\n",
        "    print(symbol * width)\n",
        "    \n",
        "    for i in range(height - 2):\n",
        "        print(symbol +('' * (width-2)) + symbol)\n",
        "    print(symbol *width)\n",
        "    \n",
        "\n",
        "for sym, w, h in (('*',4,4),('O',20,5),('x',1,3), ('ZZ',3,3)):\n",
        "    try:\n",
        "        boxPrint(sym,w,h)\n",
        "    except Exception as err:\n",
        "        print(f'An exception happened: {(str(err))}')"
      ]
    },
    {
      "cell_type": "markdown",
      "metadata": {
        "id": "ApLnElRKTKCT"
      },
      "source": [
        "## Getting the traceback as a String\n",
        "\n",
        "When python encounters an error it produces a traceback.  The traceback includes the error message, the line number of the line that caused the error, and the sequence of the function calls that led to the error.  This sequence is called a call stack"
      ]
    },
    {
      "cell_type": "code",
      "execution_count": null,
      "metadata": {
        "id": "E6DUEWefTKCU",
        "outputId": "50abf7a8-1b7b-4e80-c529-18ce93540d3e"
      },
      "outputs": [
        {
          "ename": "Exception",
          "evalue": "This is the error message",
          "output_type": "error",
          "traceback": [
            "\u001b[1;31m---------------------------------------------------------------------------\u001b[0m",
            "\u001b[1;31mException\u001b[0m                                 Traceback (most recent call last)",
            "\u001b[1;32m<ipython-input-8-9af01bc6e0b0>\u001b[0m in \u001b[0;36m<module>\u001b[1;34m\u001b[0m\n\u001b[0;32m      5\u001b[0m     \u001b[1;32mraise\u001b[0m \u001b[0mException\u001b[0m\u001b[1;33m(\u001b[0m\u001b[1;34m'This is the error message'\u001b[0m\u001b[1;33m)\u001b[0m\u001b[1;33m\u001b[0m\u001b[1;33m\u001b[0m\u001b[0m\n\u001b[0;32m      6\u001b[0m \u001b[1;33m\u001b[0m\u001b[0m\n\u001b[1;32m----> 7\u001b[1;33m \u001b[0mspam\u001b[0m\u001b[1;33m(\u001b[0m\u001b[1;33m)\u001b[0m\u001b[1;33m\u001b[0m\u001b[1;33m\u001b[0m\u001b[0m\n\u001b[0m",
            "\u001b[1;32m<ipython-input-8-9af01bc6e0b0>\u001b[0m in \u001b[0;36mspam\u001b[1;34m()\u001b[0m\n\u001b[0;32m      1\u001b[0m \u001b[1;32mdef\u001b[0m \u001b[0mspam\u001b[0m\u001b[1;33m(\u001b[0m\u001b[1;33m)\u001b[0m\u001b[1;33m:\u001b[0m\u001b[1;33m\u001b[0m\u001b[1;33m\u001b[0m\u001b[0m\n\u001b[1;32m----> 2\u001b[1;33m     \u001b[0mbacon\u001b[0m\u001b[1;33m(\u001b[0m\u001b[1;33m)\u001b[0m\u001b[1;33m\u001b[0m\u001b[1;33m\u001b[0m\u001b[0m\n\u001b[0m\u001b[0;32m      3\u001b[0m \u001b[1;33m\u001b[0m\u001b[0m\n\u001b[0;32m      4\u001b[0m \u001b[1;32mdef\u001b[0m \u001b[0mbacon\u001b[0m\u001b[1;33m(\u001b[0m\u001b[1;33m)\u001b[0m\u001b[1;33m:\u001b[0m\u001b[1;33m\u001b[0m\u001b[1;33m\u001b[0m\u001b[0m\n\u001b[0;32m      5\u001b[0m     \u001b[1;32mraise\u001b[0m \u001b[0mException\u001b[0m\u001b[1;33m(\u001b[0m\u001b[1;34m'This is the error message'\u001b[0m\u001b[1;33m)\u001b[0m\u001b[1;33m\u001b[0m\u001b[1;33m\u001b[0m\u001b[0m\n",
            "\u001b[1;32m<ipython-input-8-9af01bc6e0b0>\u001b[0m in \u001b[0;36mbacon\u001b[1;34m()\u001b[0m\n\u001b[0;32m      3\u001b[0m \u001b[1;33m\u001b[0m\u001b[0m\n\u001b[0;32m      4\u001b[0m \u001b[1;32mdef\u001b[0m \u001b[0mbacon\u001b[0m\u001b[1;33m(\u001b[0m\u001b[1;33m)\u001b[0m\u001b[1;33m:\u001b[0m\u001b[1;33m\u001b[0m\u001b[1;33m\u001b[0m\u001b[0m\n\u001b[1;32m----> 5\u001b[1;33m     \u001b[1;32mraise\u001b[0m \u001b[0mException\u001b[0m\u001b[1;33m(\u001b[0m\u001b[1;34m'This is the error message'\u001b[0m\u001b[1;33m)\u001b[0m\u001b[1;33m\u001b[0m\u001b[1;33m\u001b[0m\u001b[0m\n\u001b[0m\u001b[0;32m      6\u001b[0m \u001b[1;33m\u001b[0m\u001b[0m\n\u001b[0;32m      7\u001b[0m \u001b[0mspam\u001b[0m\u001b[1;33m(\u001b[0m\u001b[1;33m)\u001b[0m\u001b[1;33m\u001b[0m\u001b[1;33m\u001b[0m\u001b[0m\n",
            "\u001b[1;31mException\u001b[0m: This is the error message"
          ]
        }
      ],
      "source": [
        "def spam():\n",
        "    bacon()\n",
        "    \n",
        "def bacon():\n",
        "    raise Exception('This is the error message')\n",
        "    \n",
        "spam()"
      ]
    },
    {
      "cell_type": "code",
      "execution_count": null,
      "metadata": {
        "id": "co_34RzbTKCW",
        "outputId": "1e46feac-e258-419c-e9c0-8eb4c67fa1d4"
      },
      "outputs": [
        {
          "name": "stdout",
          "output_type": "stream",
          "text": [
            "The traceback info was written to errorInfo.txt\n"
          ]
        }
      ],
      "source": [
        "# Python has a traceback.format_exc() line to obtain the raised exception data as a string \n",
        "# Using the traceback function, you can make it where the program will continue to run even if an exception is generated\n",
        "\n",
        "import traceback\n",
        "\n",
        "try:\n",
        "    raise Exception('This is an error message, you dumbfuck')\n",
        "except:\n",
        "    errorFile = open('errorInfo.txt','w')\n",
        "    errorFile.write(traceback.format_exc())\n",
        "    errorFile.close()\n",
        "    print('The traceback info was written to errorInfo.txt')"
      ]
    },
    {
      "cell_type": "markdown",
      "metadata": {
        "id": "Vi772Hx1TKCY"
      },
      "source": [
        "## Assertions\n",
        "Assertions are sanity checks to make sure your code isn't doing something wrong. They are performed by the assert statement.  If the snaity check failes, then an AssertionError exception is raised. \n",
        "\n",
        "Typically an assert statement consist of:\n",
        "\n",
        "1. The assert keyword\n",
        "2. A condition ( an expression to evaluate True or False)\n",
        "3. A Comma \n",
        "4. A string to display when the condition is False\n"
      ]
    },
    {
      "cell_type": "code",
      "execution_count": null,
      "metadata": {
        "id": "Y-adBGJnTKCb",
        "outputId": "eec7fa8c-c8b0-49ce-e35d-167e261d29ef"
      },
      "outputs": [
        {
          "name": "stdout",
          "output_type": "stream",
          "text": [
            "[73, 47, 80, 17, 15, 22, 54, 92, 57, 26]\n"
          ]
        },
        {
          "ename": "AssertionError",
          "evalue": "",
          "output_type": "error",
          "traceback": [
            "\u001b[1;31m---------------------------------------------------------------------------\u001b[0m",
            "\u001b[1;31mAssertionError\u001b[0m                            Traceback (most recent call last)",
            "\u001b[1;32m<ipython-input-14-fd6295c6efdc>\u001b[0m in \u001b[0;36m<module>\u001b[1;34m\u001b[0m\n\u001b[0;32m      3\u001b[0m \u001b[0mprint\u001b[0m\u001b[1;33m(\u001b[0m\u001b[0mages\u001b[0m\u001b[1;33m)\u001b[0m\u001b[1;33m\u001b[0m\u001b[1;33m\u001b[0m\u001b[0m\n\u001b[0;32m      4\u001b[0m \u001b[1;33m\u001b[0m\u001b[0m\n\u001b[1;32m----> 5\u001b[1;33m \u001b[1;32massert\u001b[0m \u001b[0mages\u001b[0m\u001b[1;33m[\u001b[0m\u001b[1;36m0\u001b[0m\u001b[1;33m]\u001b[0m \u001b[1;33m<=\u001b[0m\u001b[0mages\u001b[0m\u001b[1;33m[\u001b[0m\u001b[1;33m-\u001b[0m\u001b[1;36m1\u001b[0m\u001b[1;33m]\u001b[0m \u001b[1;31m# Assert that the first age is <= the last age\u001b[0m\u001b[1;33m\u001b[0m\u001b[1;33m\u001b[0m\u001b[0m\n\u001b[0m",
            "\u001b[1;31mAssertionError\u001b[0m: "
          ]
        }
      ],
      "source": [
        "ages = [26,57,92,54,22,15,17,80,47,73]\n",
        "ages.reverse()\n",
        "print(ages)\n",
        "\n",
        "assert ages[0] <=ages[-1] # Assert that the first age is <= the last age"
      ]
    },
    {
      "cell_type": "markdown",
      "metadata": {
        "id": "SYkwcOSOTKCc"
      },
      "source": [
        " The code should not handle the assert statement with try and except.  If the assert fails, you want the program to crash.  the idea being that failing fast will shorten the time between the original cause of the bug and when you first notice the bug.\n",
        " \n",
        " Assertions are for programmer errors, not user errors.  "
      ]
    },
    {
      "cell_type": "markdown",
      "metadata": {
        "id": "J6-BKhMZTKCd"
      },
      "source": [
        "### Assertion in a traffic light simulation\n",
        "\n",
        "Say you are building a traffic light simulation program.  The data structure representing stoplights at an intersection is a dictionary with ks 'ns', and 'ew', for the stoplights facing north-south  or east-west. The values at those keys will be green, yellow, or red.\n",
        "\n",
        "market_2nd = {'ns':'green','ew':'red'}\n",
        "market_16th ={'ns':'red', 'ew':'green'}"
      ]
    },
    {
      "cell_type": "code",
      "execution_count": null,
      "metadata": {
        "id": "JIGlv9v9TKCg",
        "outputId": "7c40faa7-4b7a-4e7c-b4f5-61170aca00ef"
      },
      "outputs": [
        {
          "ename": "AssertionError",
          "evalue": "Niether light is red!{'ns': 'yellow', 'ew': 'green'}",
          "output_type": "error",
          "traceback": [
            "\u001b[0;31m---------------------------------------------------------------------------\u001b[0m",
            "\u001b[0;31mAssertionError\u001b[0m                            Traceback (most recent call last)",
            "\u001b[0;32m<ipython-input-2-94c133b42dd6>\u001b[0m in \u001b[0;36m<module>\u001b[0;34m\u001b[0m\n\u001b[1;32m     14\u001b[0m \u001b[0mmarket_16th\u001b[0m \u001b[0;34m=\u001b[0m\u001b[0;34m{\u001b[0m\u001b[0;34m'ns'\u001b[0m\u001b[0;34m:\u001b[0m\u001b[0;34m'red'\u001b[0m\u001b[0;34m,\u001b[0m \u001b[0;34m'ew'\u001b[0m\u001b[0;34m:\u001b[0m\u001b[0;34m'green'\u001b[0m\u001b[0;34m}\u001b[0m\u001b[0;34m\u001b[0m\u001b[0;34m\u001b[0m\u001b[0m\n\u001b[1;32m     15\u001b[0m \u001b[0;34m\u001b[0m\u001b[0m\n\u001b[0;32m---> 16\u001b[0;31m \u001b[0mswitchLights\u001b[0m\u001b[0;34m(\u001b[0m\u001b[0mmarket_2nd\u001b[0m\u001b[0;34m)\u001b[0m\u001b[0;34m\u001b[0m\u001b[0;34m\u001b[0m\u001b[0m\n\u001b[0m\u001b[1;32m     17\u001b[0m \u001b[0;34m\u001b[0m\u001b[0m\n",
            "\u001b[0;32m<ipython-input-2-94c133b42dd6>\u001b[0m in \u001b[0;36mswitchLights\u001b[0;34m(stoplight)\u001b[0m\n\u001b[1;32m      7\u001b[0m         \u001b[0;32melif\u001b[0m \u001b[0mstoplight\u001b[0m\u001b[0;34m[\u001b[0m\u001b[0mkey\u001b[0m\u001b[0;34m]\u001b[0m\u001b[0;34m==\u001b[0m \u001b[0;34m'red'\u001b[0m\u001b[0;34m:\u001b[0m\u001b[0;34m\u001b[0m\u001b[0;34m\u001b[0m\u001b[0m\n\u001b[1;32m      8\u001b[0m             \u001b[0mstoplight\u001b[0m\u001b[0;34m[\u001b[0m\u001b[0mkey\u001b[0m\u001b[0;34m]\u001b[0m \u001b[0;34m=\u001b[0m \u001b[0;34m'green'\u001b[0m\u001b[0;34m\u001b[0m\u001b[0;34m\u001b[0m\u001b[0m\n\u001b[0;32m----> 9\u001b[0;31m     \u001b[0;32massert\u001b[0m \u001b[0;34m'red'\u001b[0m \u001b[0;32min\u001b[0m \u001b[0mstoplight\u001b[0m\u001b[0;34m.\u001b[0m\u001b[0mvalues\u001b[0m\u001b[0;34m(\u001b[0m\u001b[0;34m)\u001b[0m\u001b[0;34m,\u001b[0m\u001b[0;34m'Niether light is red!'\u001b[0m \u001b[0;34m+\u001b[0m\u001b[0mstr\u001b[0m\u001b[0;34m(\u001b[0m\u001b[0mstoplight\u001b[0m\u001b[0;34m)\u001b[0m\u001b[0;34m\u001b[0m\u001b[0;34m\u001b[0m\u001b[0m\n\u001b[0m\u001b[1;32m     10\u001b[0m \u001b[0;34m\u001b[0m\u001b[0m\n\u001b[1;32m     11\u001b[0m \u001b[0;34m\u001b[0m\u001b[0m\n",
            "\u001b[0;31mAssertionError\u001b[0m: Niether light is red!{'ns': 'yellow', 'ew': 'green'}"
          ]
        }
      ],
      "source": [
        "\n",
        "\n",
        "\n",
        "\n",
        "def switchLights(stoplight):\n",
        "    for key in stoplight.keys():\n",
        "        if stoplight[key] == 'green':\n",
        "            stoplight[key] = 'yellow'\n",
        "        elif stoplight[key] == 'yellow':\n",
        "            stoplight[key] = 'red'\n",
        "        elif stoplight[key]== 'red':\n",
        "            stoplight[key] = 'green'\n",
        "    assert 'red' in stoplight.values(),'Niether light is red!' +str(stoplight)\n",
        "\n",
        "\n",
        "    \n",
        "market_2nd = {'ns':'green','ew':'red'}\n",
        "market_16th ={'ns':'red', 'ew':'green'}    \n",
        "    \n",
        "switchLights(market_2nd)\n",
        "\n"
      ]
    },
    {
      "cell_type": "markdown",
      "metadata": {
        "id": "sDe-fanNTKCi"
      },
      "source": [
        "Basically, we already saw that there would be a problem. Since you would have instances where neither light was red, you would have crashes at the intersections.  So we would write an assertion to check to see if it was possible for you to not have a red light.\n",
        "\n",
        "While it does crash the program and that is not what we want, this would point out that a sanity check failed.  "
      ]
    },
    {
      "cell_type": "markdown",
      "metadata": {
        "id": "5UkOJ2oPTKCi"
      },
      "source": [
        "## Logging\n",
        "\n",
        "The logging module allows you to display log messages on your screen as the program runs\n"
      ]
    },
    {
      "cell_type": "code",
      "execution_count": null,
      "metadata": {
        "id": "obGL2ahlTKCj"
      },
      "outputs": [],
      "source": [
        "import logging\n",
        "logging.basicConfig(level=logging.DEBUG,format='%(asctime)s- %(levelname) s- %(message)s')"
      ]
    },
    {
      "cell_type": "markdown",
      "metadata": {
        "id": "VeYTwL8HTKCk"
      },
      "source": [
        "When python logs an event, it creates a LogRecord object that holds information about the event.  The logging modules basicConfig( function lets you specify what details about the LogRecord object you want to see and how you want those details displayed.\n",
        "\n"
      ]
    },
    {
      "cell_type": "code",
      "execution_count": null,
      "metadata": {
        "id": "wsqhSePpTKCm",
        "outputId": "043ed516-d55f-47a8-82ea-6114419c20cc"
      },
      "outputs": [
        {
          "name": "stderr",
          "output_type": "stream",
          "text": [
            "2020-12-27 17:52:54,758- DEBUG- Start of program\n",
            "2020-12-27 17:52:54,762- DEBUG- Start of factorial(5%)\n",
            "2020-12-27 17:52:54,764- DEBUG- i is 0, the total is 0\n",
            "2020-12-27 17:52:54,766- DEBUG- i is 1, the total is 0\n",
            "2020-12-27 17:52:54,768- DEBUG- i is 2, the total is 0\n",
            "2020-12-27 17:52:54,770- DEBUG- i is 3, the total is 0\n",
            "2020-12-27 17:52:54,775- DEBUG- i is 4, the total is 0\n",
            "2020-12-27 17:52:54,777- DEBUG- i is 5, the total is 0\n",
            "2020-12-27 17:52:54,780- DEBUG- End of Factorial(5%)\n",
            "2020-12-27 17:52:54,782- DEBUG- End of program\n"
          ]
        },
        {
          "name": "stdout",
          "output_type": "stream",
          "text": [
            "0\n"
          ]
        }
      ],
      "source": [
        "# Factorial logg\n",
        "\n",
        "import logging\n",
        "logging.basicConfig(level=logging.DEBUG,format='%(asctime)s- %(levelname) s- %(message)s')\n",
        "\n",
        "logging.debug('Start of program')\n",
        "\n",
        "def factorial(n):\n",
        "    logging.debug('Start of factorial(%s%%)' %(n))\n",
        "    total = 1\n",
        "    for i in range(n+1):\n",
        "        total *=i\n",
        "        logging.debug(f'i is {str(i)}, the total is {str(total)}')\n",
        "    logging.debug('End of Factorial(%s%%)' %(n))\n",
        "    return total\n",
        "\n",
        "print(factorial(5))\n",
        "logging.debug('End of program')\n",
        "        "
      ]
    },
    {
      "cell_type": "markdown",
      "metadata": {
        "id": "f93lHeOnTKCn"
      },
      "source": [
        "There are supposed to be errors in this program.  We use logging.debug() when we want to print log information.  Looking at the info above, we see that the factorial function is returning 0 as the factorial of 5. The for loop shoul be multiplying the total by 1 - 5 since once we use a 0, it makes the total stuck at 0.  \n",
        "\n",
        "So lets change the first number of the range to 1..."
      ]
    },
    {
      "cell_type": "code",
      "execution_count": null,
      "metadata": {
        "id": "NW4Y-cYiTKCn",
        "outputId": "461fc580-223c-4ade-8d63-5b73e4b93449"
      },
      "outputs": [
        {
          "name": "stderr",
          "output_type": "stream",
          "text": [
            "2020-12-27 18:04:04,492- DEBUG- Start of program\n",
            "2020-12-27 18:04:04,495- DEBUG- Start of factorial 5\n",
            "2020-12-27 18:04:04,497- DEBUG- i is 1, the total is 1\n",
            "2020-12-27 18:04:04,499- DEBUG- i is 2, the total is 2\n",
            "2020-12-27 18:04:04,501- DEBUG- i is 3, the total is 6\n",
            "2020-12-27 18:04:04,502- DEBUG- i is 4, the total is 24\n",
            "2020-12-27 18:04:04,506- DEBUG- i is 5, the total is 120\n",
            "2020-12-27 18:04:04,508- DEBUG- End of Factorial 5\n",
            "2020-12-27 18:04:04,510- DEBUG- End of program\n"
          ]
        },
        {
          "name": "stdout",
          "output_type": "stream",
          "text": [
            "120\n"
          ]
        }
      ],
      "source": [
        "# Factorial logg\n",
        "\n",
        "import logging\n",
        "logging.basicConfig(level=logging.DEBUG,format='%(asctime)s- %(levelname) s- %(message)s')\n",
        "\n",
        "logging.debug('Start of program')\n",
        "\n",
        "def factorial(n):\n",
        "    logging.debug(f'Start of factorial {n}')\n",
        "    total = 1\n",
        "    for i in range(1,n+1):\n",
        "        total *=i\n",
        "        logging.debug(f'i is {str(i)}, the total is {str(total)}')\n",
        "    logging.debug(f'End of Factorial {n}')\n",
        "    return total\n",
        "\n",
        "print(factorial(5))\n",
        "logging.debug('End of program')\n",
        "        "
      ]
    },
    {
      "cell_type": "markdown",
      "metadata": {
        "id": "1Eop9zYfTKCo"
      },
      "source": [
        "## Don't debug with the print() function.\n",
        "\n",
        "Typing import logging and logging.basicConfig(level=logging.DEBUG,format='%(asctime)s- %(levelname) s- %(message)s') , is fucking tedius and makes it tempting to use print functions instead.\n",
        "\n",
        "However; when you finish debugging you will end up removing the print functions for each log message.  You could also accidentally remove print functions by accident. \n",
        "\n",
        "Log messages are intended for programmer and not the user.\n",
        "\n",
        "## Logging Levels\n",
        "\n",
        "Look to the book but you also have a ranage of logging levels you can use for your debugging.  \n",
        "\n",
        "\n",
        "## Disabling Loggin\n",
        "You can also disable logging so that after you have debugged your program, the debug messages wont clog the screen.  \n"
      ]
    },
    {
      "cell_type": "code",
      "execution_count": null,
      "metadata": {
        "id": "nkerKoywTKCo",
        "outputId": "c7fd50c8-60a8-412d-b463-9eae0fde55cb"
      },
      "outputs": [
        {
          "name": "stderr",
          "output_type": "stream",
          "text": [
            "2020-12-27 18:12:01,317- CRITICAL- Critical Error! Critical Error!\n"
          ]
        }
      ],
      "source": [
        "import logging \n",
        "logging.basicConfig(level=logging.DEBUG,format='%(asctime)s- %(levelname) s- %(message)s')\n",
        "logging.critical('Critical Error! Critical Error!')\n",
        "\n"
      ]
    },
    {
      "cell_type": "code",
      "execution_count": null,
      "metadata": {
        "id": "KpxKivamTKCp"
      },
      "outputs": [],
      "source": [
        "logging.disable(logging.CRITICAL)\n",
        "logging.critical('Critical error! Crtical error!')\n",
        "logging.error('Error! Error!')"
      ]
    },
    {
      "cell_type": "markdown",
      "metadata": {
        "id": "8wa0k5ZkTKCq"
      },
      "source": [
        "logging.disable() will disable ALL messages after it.  So when you decide to use it, plop it near the import logging line of code in your program."
      ]
    },
    {
      "cell_type": "markdown",
      "metadata": {
        "id": "NhhosYkJTKCr"
      },
      "source": [
        "## Logging to a file\n",
        "Instead of plopping log messags to the screen, you can also write them to a text file.  To do so the logging.basicConfig() takes a filename keyword argument:\n",
        "\n",
        "logging.basicConfig(filename='myProgramLog.txt',level=logging.DEBUG,format='%(asctime)s- %(levelname) s- %(message)s')"
      ]
    },
    {
      "cell_type": "markdown",
      "metadata": {
        "id": "0DHE0UbeTKCs"
      },
      "source": [
        "## Practice Project\n"
      ]
    },
    {
      "cell_type": "code",
      "execution_count": null,
      "metadata": {
        "id": "ETQkoPyXTKCs",
        "outputId": "d7b5137b-f103-4e93-d836-b70757fa81d4"
      },
      "outputs": [
        {
          "name": "stdout",
          "output_type": "stream",
          "text": [
            "Guess the coin toss!, Enter heads or tails: \n",
            "0\n",
            "Guess the coin toss!, Enter heads or tails: \n",
            "1\n",
            "Guess the coin toss!, Enter heads or tails: \n",
            "heads\n",
            "Nope!, guess again\n",
            "tails\n",
            "Nope, you are really bad at this game\n"
          ]
        }
      ],
      "source": [
        "import random\n",
        "guess = ''\n",
        "while guess not in ('heads', 'tails'):\n",
        "    print('Guess the coin toss!, Enter heads or tails: ')\n",
        "    guess = input()\n",
        "\n",
        "toss = random.randint(0,1)# 0 = tails, 1 = heads\n",
        "if toss == guess:\n",
        "    print('You got it')\n",
        "else:\n",
        "    print('Nope!, guess again')\n",
        "    guess = input()\n",
        "    if toss == guess:\n",
        "        print('You got it!')\n",
        "    else:\n",
        "        print('Nope, you are really bad at this game')"
      ]
    },
    {
      "cell_type": "code",
      "execution_count": null,
      "metadata": {
        "id": "h7hjOA-rTKCt"
      },
      "outputs": [],
      "source": [
        "# My attempt to fix this shit\n",
        "\n",
        "import random, logging\n",
        "logging.basicConfig(level=logging.DEBUG,format='%(asctime)s- %(levelname) s- %(message)s')\n",
        "logging.debug('Start of Program')\n",
        "\n",
        "\n",
        "# Here's where it gets retarded.\n",
        "\"\"\"\n",
        "While guess is assigned a blank value, the program will prompt for heads or tails and ask the user\n",
        "to input heads or tails, while the actual value its comparing is a 1 or a 0.\n",
        "\"\"\"\n",
        "\n",
        "guess = ''\n",
        "while guess not in ('heads', 'tails'):\n",
        "    print('Guess the coin toss!, Enter heads or tails: ')\n",
        "    guess = input()\n",
        "    logging.debug(f'Guess entered: {guess}')\n",
        "\n",
        "if random.randint(0,1) == 0:\n",
        "    toss = 'heads'\n",
        "else:\n",
        "    toss = 'tails'\n",
        "    \n",
        "logging.debug(f'toss value: {toss}')\n",
        "if toss == guess:\n",
        "    print('You got it')\n",
        "else:\n",
        "    print('Nope!, guess again')\n",
        "    guess = input()\n",
        "    if toss == guess:\n",
        "        print('You got it!')\n",
        "    else:\n",
        "        print('Nope, you are really bad at this game')\n",
        "        logging.debug(\"Player is an idiot\")"
      ]
    },
    {
      "cell_type": "code",
      "execution_count": null,
      "metadata": {
        "id": "9pkUuKlKTKCu"
      },
      "outputs": [],
      "source": [
        ""
      ]
    }
  ],
  "metadata": {
    "kernelspec": {
      "display_name": "Python 3",
      "language": "python",
      "name": "python3"
    },
    "language_info": {
      "codemirror_mode": {
        "name": "ipython",
        "version": 3
      },
      "file_extension": ".py",
      "mimetype": "text/x-python",
      "name": "python",
      "nbconvert_exporter": "python",
      "pygments_lexer": "ipython3",
      "version": "3.8.3"
    },
    "colab": {
      "name": "Automate11 - Debugging.ipynb",
      "provenance": []
    }
  },
  "nbformat": 4,
  "nbformat_minor": 0
}